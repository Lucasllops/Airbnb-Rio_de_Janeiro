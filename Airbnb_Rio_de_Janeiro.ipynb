{
  "nbformat": 4,
  "nbformat_minor": 0,
  "metadata": {
    "colab": {
      "name": "Airbnb_Rio_de_Janeiro.ipynb",
      "provenance": [],
      "collapsed_sections": [],
      "toc_visible": true,
      "authorship_tag": "ABX9TyNdOIGSm7B3CLef+NXWffHU",
      "include_colab_link": true
    },
    "kernelspec": {
      "name": "python3",
      "display_name": "Python 3"
    },
    "language_info": {
      "name": "python"
    }
  },
  "cells": [
    {
      "cell_type": "markdown",
      "metadata": {
        "id": "view-in-github",
        "colab_type": "text"
      },
      "source": [
        "<a href=\"https://colab.research.google.com/github/Lucasllops/Airbnb-Rio_de_Janeiro/blob/main/Airbnb_Rio_de_Janeiro.ipynb\" target=\"_parent\"><img src=\"https://colab.research.google.com/assets/colab-badge.svg\" alt=\"Open In Colab\"/></a>"
      ]
    },
    {
      "cell_type": "markdown",
      "source": [
        "## Análise dos dados de hospedaria da empresa Airbnb para a cidade do Rio de Janeiro\n",
        "\n",
        "A [Airbnb](https://www.airbnb.com.br/) é uma empresa americana fundada em agosto de 2008, que mudou a forma de se trabalhar com hospedarias, isso porque a empresa é uma das maiores no ramo de hospedagem, mesmo não possuindo nenhum imóvel. \n",
        "\n",
        "Com a Airbnb, pessoas do mundo inteiro podem de forma fácil, alugar casas ou quartos para se hospedarem durante aquela viagem de férias. \n",
        "\n",
        "A empresa opera online, e faz o papel de intermediaria entre pessoas que possuem imóveis ou quartos para alugar, e pessoas que querem alugar um lugar para passar o fim de semana ou uma temporada.\n",
        "\n",
        "**Esse notebook tem como objetivo a análise dos dados de hospedaria para a cidade do Rio de Janeiro, e ver quais insights podem ser extraídos.**"
      ],
      "metadata": {
        "id": "0BCI_KPrYPNC"
      }
    },
    {
      "cell_type": "markdown",
      "source": [
        "## Obtenção dos dados\n",
        "\n",
        "Todos os dados utilizados neste notebook foram retirados do site [inside Airbnb](http://insideairbnb.com/get-the-data).\n",
        "\n",
        "Nessa análise o aquivo usado será o informado abaixo:\n",
        "\n",
        "* `listings.csv` - *Summary information and metrics for listings in Rio de Janeiro*\n",
        "\n"
      ],
      "metadata": {
        "id": "WfdtP42NjNYH"
      }
    },
    {
      "cell_type": "code",
      "execution_count": 2,
      "metadata": {
        "id": "d5pe225lYKiN"
      },
      "outputs": [],
      "source": [
        "#impota-se as bibliotecas que serão usadas.\n",
        "import pandas as pd\n",
        "import matplotlib.pyplot as plt\n",
        "import seaborn as sns\n",
        "\n",
        "%matplotlib inline"
      ]
    },
    {
      "cell_type": "code",
      "source": [
        "#importar o arquivo que será utilizado\n",
        "\n",
        "df = pd.read_csv('http://data.insideairbnb.com/brazil/rj/rio-de-janeiro/2022-03-25/visualisations/listings.csv')"
      ],
      "metadata": {
        "id": "u_2lR8YGlDc-"
      },
      "execution_count": 3,
      "outputs": []
    },
    {
      "cell_type": "markdown",
      "source": [
        "## Análise dos dados\n",
        "\n",
        "Aqui tentaremos inicialmente entender como os dados estão estruturados, se os dados são integros, com quantas variaveis vamos trabalhar, e se todas são significativas. Criaremos visualizações para tentar entender como os dados se comportam e faremos algumas transformações se necessário. Por fim tentarei extrair insigths desses dados."
      ],
      "metadata": {
        "id": "abB-tNr4mXR-"
      }
    },
    {
      "cell_type": "markdown",
      "source": [
        "### Dicionário das variáveis\n",
        "\n",
        "* `id` - Código identificador do imóvel\n",
        "* `name` - Nome do imóvel como anunciado no site\n",
        "* `host_id` - Código identificador do proprietário do imóvel\n",
        "* `host_name` - Nome do proprietário do imóvel\n",
        "* `neighbourhood_group` - Coluna com todos os valores nulos\n",
        "* `neighbourhood` - Bairro onde está localizado o imóvel\n",
        "* `latitude` - Coordenada geográfica latitudinal do imóvel\n",
        "* `longitude` - Coordenada geográfica longitudinal do imóvel\n",
        "* `room_type` - Tipo de locação, se todo o imóvel ou apenas um quarto\n",
        "* `price` - Preço do aluguel\n",
        "* `minimum_nights` - Minimo de noites para se fazer a reserva\n",
        "* `number_of_reviews` - Número de reviews para o imóvel\n",
        "* `last_review` - Último review feito para o imóvel\n",
        "* `reviews_per_month` - Quantidade de reviews feitos por mês\n",
        "* `calculated_host_listings_count` - Quantidade de imóveis anunciados pelo proprietário\n",
        "* `availability_365` - Disponibilidade dos imóveis\n",
        "* `number_of_reviews_ltm` - Número de reviews do mês anterior\n",
        "* `license` - Coluna com todo os dados nulos"
      ],
      "metadata": {
        "id": "EWk2_vz7nbaR"
      }
    },
    {
      "cell_type": "code",
      "source": [
        "df.head()"
      ],
      "metadata": {
        "colab": {
          "base_uri": "https://localhost:8080/",
          "height": 600
        },
        "id": "4zRG5X43pYgr",
        "outputId": "7410101f-2b06-4f5b-fd50-dd8392b16cca"
      },
      "execution_count": 4,
      "outputs": [
        {
          "output_type": "execute_result",
          "data": {
            "text/plain": [
              "                   id                                               name  \\\n",
              "0  581017381015650161      Que tal matar as saudades do carnaval no Rio?   \n",
              "1               17878  Very Nice 2Br in Copacabana w. balcony, fast WiFi   \n",
              "2            53344884         Suntuoso apartamento em Copacabana posto 6   \n",
              "3               24480   Nice and cozy near Ipanema Beach, w/ home office   \n",
              "4  558164148245438468     Apartamento frontal mar decorado por arquiteto   \n",
              "\n",
              "     host_id          host_name  neighbourhood_group    neighbourhood  \\\n",
              "0  424872017  Maria Jose Franco                  NaN             Urca   \n",
              "1      68997           Matthias                  NaN       Copacabana   \n",
              "2  431412286    Carlos Henrique                  NaN       Copacabana   \n",
              "3      99249               Goya                  NaN          Ipanema   \n",
              "4  437903860             Lianna                  NaN  Barra da Tijuca   \n",
              "\n",
              "    latitude  longitude        room_type  price  minimum_nights  \\\n",
              "0 -22.947812 -43.175590  Entire home/apt   1600               1   \n",
              "1 -22.965990 -43.179400  Entire home/apt    254               5   \n",
              "2 -22.982990 -43.189040  Entire home/apt   2500               3   \n",
              "3 -22.984050 -43.201890  Entire home/apt    607               3   \n",
              "4 -23.014541 -43.316481  Entire home/apt   1857               1   \n",
              "\n",
              "   number_of_reviews last_review  reviews_per_month  \\\n",
              "0                  0         NaN                NaN   \n",
              "1                269  2022-03-24               1.89   \n",
              "2                  0         NaN                NaN   \n",
              "3                 85  2018-02-14               0.61   \n",
              "4                  0         NaN                NaN   \n",
              "\n",
              "   calculated_host_listings_count  availability_365  number_of_reviews_ltm  \\\n",
              "0                               2               365                      0   \n",
              "1                               1               307                      9   \n",
              "2                               9               365                      0   \n",
              "3                               1               194                      0   \n",
              "4                               1               365                      0   \n",
              "\n",
              "   license  \n",
              "0      NaN  \n",
              "1      NaN  \n",
              "2      NaN  \n",
              "3      NaN  \n",
              "4      NaN  "
            ],
            "text/html": [
              "\n",
              "  <div id=\"df-784accc6-f58f-4c6b-8b47-f783190814c4\">\n",
              "    <div class=\"colab-df-container\">\n",
              "      <div>\n",
              "<style scoped>\n",
              "    .dataframe tbody tr th:only-of-type {\n",
              "        vertical-align: middle;\n",
              "    }\n",
              "\n",
              "    .dataframe tbody tr th {\n",
              "        vertical-align: top;\n",
              "    }\n",
              "\n",
              "    .dataframe thead th {\n",
              "        text-align: right;\n",
              "    }\n",
              "</style>\n",
              "<table border=\"1\" class=\"dataframe\">\n",
              "  <thead>\n",
              "    <tr style=\"text-align: right;\">\n",
              "      <th></th>\n",
              "      <th>id</th>\n",
              "      <th>name</th>\n",
              "      <th>host_id</th>\n",
              "      <th>host_name</th>\n",
              "      <th>neighbourhood_group</th>\n",
              "      <th>neighbourhood</th>\n",
              "      <th>latitude</th>\n",
              "      <th>longitude</th>\n",
              "      <th>room_type</th>\n",
              "      <th>price</th>\n",
              "      <th>minimum_nights</th>\n",
              "      <th>number_of_reviews</th>\n",
              "      <th>last_review</th>\n",
              "      <th>reviews_per_month</th>\n",
              "      <th>calculated_host_listings_count</th>\n",
              "      <th>availability_365</th>\n",
              "      <th>number_of_reviews_ltm</th>\n",
              "      <th>license</th>\n",
              "    </tr>\n",
              "  </thead>\n",
              "  <tbody>\n",
              "    <tr>\n",
              "      <th>0</th>\n",
              "      <td>581017381015650161</td>\n",
              "      <td>Que tal matar as saudades do carnaval no Rio?</td>\n",
              "      <td>424872017</td>\n",
              "      <td>Maria Jose Franco</td>\n",
              "      <td>NaN</td>\n",
              "      <td>Urca</td>\n",
              "      <td>-22.947812</td>\n",
              "      <td>-43.175590</td>\n",
              "      <td>Entire home/apt</td>\n",
              "      <td>1600</td>\n",
              "      <td>1</td>\n",
              "      <td>0</td>\n",
              "      <td>NaN</td>\n",
              "      <td>NaN</td>\n",
              "      <td>2</td>\n",
              "      <td>365</td>\n",
              "      <td>0</td>\n",
              "      <td>NaN</td>\n",
              "    </tr>\n",
              "    <tr>\n",
              "      <th>1</th>\n",
              "      <td>17878</td>\n",
              "      <td>Very Nice 2Br in Copacabana w. balcony, fast WiFi</td>\n",
              "      <td>68997</td>\n",
              "      <td>Matthias</td>\n",
              "      <td>NaN</td>\n",
              "      <td>Copacabana</td>\n",
              "      <td>-22.965990</td>\n",
              "      <td>-43.179400</td>\n",
              "      <td>Entire home/apt</td>\n",
              "      <td>254</td>\n",
              "      <td>5</td>\n",
              "      <td>269</td>\n",
              "      <td>2022-03-24</td>\n",
              "      <td>1.89</td>\n",
              "      <td>1</td>\n",
              "      <td>307</td>\n",
              "      <td>9</td>\n",
              "      <td>NaN</td>\n",
              "    </tr>\n",
              "    <tr>\n",
              "      <th>2</th>\n",
              "      <td>53344884</td>\n",
              "      <td>Suntuoso apartamento em Copacabana posto 6</td>\n",
              "      <td>431412286</td>\n",
              "      <td>Carlos Henrique</td>\n",
              "      <td>NaN</td>\n",
              "      <td>Copacabana</td>\n",
              "      <td>-22.982990</td>\n",
              "      <td>-43.189040</td>\n",
              "      <td>Entire home/apt</td>\n",
              "      <td>2500</td>\n",
              "      <td>3</td>\n",
              "      <td>0</td>\n",
              "      <td>NaN</td>\n",
              "      <td>NaN</td>\n",
              "      <td>9</td>\n",
              "      <td>365</td>\n",
              "      <td>0</td>\n",
              "      <td>NaN</td>\n",
              "    </tr>\n",
              "    <tr>\n",
              "      <th>3</th>\n",
              "      <td>24480</td>\n",
              "      <td>Nice and cozy near Ipanema Beach, w/ home office</td>\n",
              "      <td>99249</td>\n",
              "      <td>Goya</td>\n",
              "      <td>NaN</td>\n",
              "      <td>Ipanema</td>\n",
              "      <td>-22.984050</td>\n",
              "      <td>-43.201890</td>\n",
              "      <td>Entire home/apt</td>\n",
              "      <td>607</td>\n",
              "      <td>3</td>\n",
              "      <td>85</td>\n",
              "      <td>2018-02-14</td>\n",
              "      <td>0.61</td>\n",
              "      <td>1</td>\n",
              "      <td>194</td>\n",
              "      <td>0</td>\n",
              "      <td>NaN</td>\n",
              "    </tr>\n",
              "    <tr>\n",
              "      <th>4</th>\n",
              "      <td>558164148245438468</td>\n",
              "      <td>Apartamento frontal mar decorado por arquiteto</td>\n",
              "      <td>437903860</td>\n",
              "      <td>Lianna</td>\n",
              "      <td>NaN</td>\n",
              "      <td>Barra da Tijuca</td>\n",
              "      <td>-23.014541</td>\n",
              "      <td>-43.316481</td>\n",
              "      <td>Entire home/apt</td>\n",
              "      <td>1857</td>\n",
              "      <td>1</td>\n",
              "      <td>0</td>\n",
              "      <td>NaN</td>\n",
              "      <td>NaN</td>\n",
              "      <td>1</td>\n",
              "      <td>365</td>\n",
              "      <td>0</td>\n",
              "      <td>NaN</td>\n",
              "    </tr>\n",
              "  </tbody>\n",
              "</table>\n",
              "</div>\n",
              "      <button class=\"colab-df-convert\" onclick=\"convertToInteractive('df-784accc6-f58f-4c6b-8b47-f783190814c4')\"\n",
              "              title=\"Convert this dataframe to an interactive table.\"\n",
              "              style=\"display:none;\">\n",
              "        \n",
              "  <svg xmlns=\"http://www.w3.org/2000/svg\" height=\"24px\"viewBox=\"0 0 24 24\"\n",
              "       width=\"24px\">\n",
              "    <path d=\"M0 0h24v24H0V0z\" fill=\"none\"/>\n",
              "    <path d=\"M18.56 5.44l.94 2.06.94-2.06 2.06-.94-2.06-.94-.94-2.06-.94 2.06-2.06.94zm-11 1L8.5 8.5l.94-2.06 2.06-.94-2.06-.94L8.5 2.5l-.94 2.06-2.06.94zm10 10l.94 2.06.94-2.06 2.06-.94-2.06-.94-.94-2.06-.94 2.06-2.06.94z\"/><path d=\"M17.41 7.96l-1.37-1.37c-.4-.4-.92-.59-1.43-.59-.52 0-1.04.2-1.43.59L10.3 9.45l-7.72 7.72c-.78.78-.78 2.05 0 2.83L4 21.41c.39.39.9.59 1.41.59.51 0 1.02-.2 1.41-.59l7.78-7.78 2.81-2.81c.8-.78.8-2.07 0-2.86zM5.41 20L4 18.59l7.72-7.72 1.47 1.35L5.41 20z\"/>\n",
              "  </svg>\n",
              "      </button>\n",
              "      \n",
              "  <style>\n",
              "    .colab-df-container {\n",
              "      display:flex;\n",
              "      flex-wrap:wrap;\n",
              "      gap: 12px;\n",
              "    }\n",
              "\n",
              "    .colab-df-convert {\n",
              "      background-color: #E8F0FE;\n",
              "      border: none;\n",
              "      border-radius: 50%;\n",
              "      cursor: pointer;\n",
              "      display: none;\n",
              "      fill: #1967D2;\n",
              "      height: 32px;\n",
              "      padding: 0 0 0 0;\n",
              "      width: 32px;\n",
              "    }\n",
              "\n",
              "    .colab-df-convert:hover {\n",
              "      background-color: #E2EBFA;\n",
              "      box-shadow: 0px 1px 2px rgba(60, 64, 67, 0.3), 0px 1px 3px 1px rgba(60, 64, 67, 0.15);\n",
              "      fill: #174EA6;\n",
              "    }\n",
              "\n",
              "    [theme=dark] .colab-df-convert {\n",
              "      background-color: #3B4455;\n",
              "      fill: #D2E3FC;\n",
              "    }\n",
              "\n",
              "    [theme=dark] .colab-df-convert:hover {\n",
              "      background-color: #434B5C;\n",
              "      box-shadow: 0px 1px 3px 1px rgba(0, 0, 0, 0.15);\n",
              "      filter: drop-shadow(0px 1px 2px rgba(0, 0, 0, 0.3));\n",
              "      fill: #FFFFFF;\n",
              "    }\n",
              "  </style>\n",
              "\n",
              "      <script>\n",
              "        const buttonEl =\n",
              "          document.querySelector('#df-784accc6-f58f-4c6b-8b47-f783190814c4 button.colab-df-convert');\n",
              "        buttonEl.style.display =\n",
              "          google.colab.kernel.accessAllowed ? 'block' : 'none';\n",
              "\n",
              "        async function convertToInteractive(key) {\n",
              "          const element = document.querySelector('#df-784accc6-f58f-4c6b-8b47-f783190814c4');\n",
              "          const dataTable =\n",
              "            await google.colab.kernel.invokeFunction('convertToInteractive',\n",
              "                                                     [key], {});\n",
              "          if (!dataTable) return;\n",
              "\n",
              "          const docLinkHtml = 'Like what you see? Visit the ' +\n",
              "            '<a target=\"_blank\" href=https://colab.research.google.com/notebooks/data_table.ipynb>data table notebook</a>'\n",
              "            + ' to learn more about interactive tables.';\n",
              "          element.innerHTML = '';\n",
              "          dataTable['output_type'] = 'display_data';\n",
              "          await google.colab.output.renderOutput(dataTable, element);\n",
              "          const docLink = document.createElement('div');\n",
              "          docLink.innerHTML = docLinkHtml;\n",
              "          element.appendChild(docLink);\n",
              "        }\n",
              "      </script>\n",
              "    </div>\n",
              "  </div>\n",
              "  "
            ]
          },
          "metadata": {},
          "execution_count": 4
        }
      ]
    },
    {
      "cell_type": "markdown",
      "source": [
        "### **Q1. Quantos atributos (variáveis) e quantas entradas o nosso conjunto de dados possui? Quais os tipos das variáveis?**"
      ],
      "metadata": {
        "id": "FPcLVFV_sc9L"
      }
    },
    {
      "cell_type": "code",
      "source": [
        "#Usando shape para saber quantas linhas e quantas colunas o df possui.\n",
        "print('Número de entradas (linhas): \\t', df.shape[0])\n",
        "print('Número de variáveis (colunas): \\t', df.shape[1], '\\n')\n",
        "\n",
        "#Usando dtypes para saber os tipos de cada variável (coluna)\n",
        "print(df.dtypes)"
      ],
      "metadata": {
        "colab": {
          "base_uri": "https://localhost:8080/"
        },
        "id": "Y_O1zv5ns9Yn",
        "outputId": "e9dd976d-33c8-4b29-c7c6-95cce0211ac2"
      },
      "execution_count": 5,
      "outputs": [
        {
          "output_type": "stream",
          "name": "stdout",
          "text": [
            "Número de entradas (linhas): \t 24722\n",
            "Número de variáveis (colunas): \t 18 \n",
            "\n",
            "id                                  int64\n",
            "name                               object\n",
            "host_id                             int64\n",
            "host_name                          object\n",
            "neighbourhood_group               float64\n",
            "neighbourhood                      object\n",
            "latitude                          float64\n",
            "longitude                         float64\n",
            "room_type                          object\n",
            "price                               int64\n",
            "minimum_nights                      int64\n",
            "number_of_reviews                   int64\n",
            "last_review                        object\n",
            "reviews_per_month                 float64\n",
            "calculated_host_listings_count      int64\n",
            "availability_365                    int64\n",
            "number_of_reviews_ltm               int64\n",
            "license                           float64\n",
            "dtype: object\n"
          ]
        }
      ]
    },
    {
      "cell_type": "markdown",
      "source": [
        "### **Q2. Qual a porcentagem de valores ausentes no *dataset*?**\n",
        "\n",
        "Para saber se os dados são confiaveis e a qualidade desses dados, precisamos verificar a quantidade de valores nullos nesses dados, para isso observaremos a porcentagem de entradas nulas para cada variavel."
      ],
      "metadata": {
        "id": "UNjSayfRfzJG"
      }
    },
    {
      "cell_type": "code",
      "source": [
        "#Operação para obter a porcetagem de valores nulos no dataset\n",
        "(df.isnull().sum() * 100)/df.shape[0]"
      ],
      "metadata": {
        "colab": {
          "base_uri": "https://localhost:8080/"
        },
        "id": "JTM3PQcAgtXA",
        "outputId": "642e16fc-9cf6-4e17-a17a-d6997e00e91b"
      },
      "execution_count": 6,
      "outputs": [
        {
          "output_type": "execute_result",
          "data": {
            "text/plain": [
              "id                                  0.000000\n",
              "name                                0.084945\n",
              "host_id                             0.000000\n",
              "host_name                           0.028315\n",
              "neighbourhood_group               100.000000\n",
              "neighbourhood                       0.000000\n",
              "latitude                            0.000000\n",
              "longitude                           0.000000\n",
              "room_type                           0.000000\n",
              "price                               0.000000\n",
              "minimum_nights                      0.000000\n",
              "number_of_reviews                   0.000000\n",
              "last_review                        31.449721\n",
              "reviews_per_month                  31.449721\n",
              "calculated_host_listings_count      0.000000\n",
              "availability_365                    0.000000\n",
              "number_of_reviews_ltm               0.000000\n",
              "license                           100.000000\n",
              "dtype: float64"
            ]
          },
          "metadata": {},
          "execution_count": 6
        }
      ]
    },
    {
      "cell_type": "markdown",
      "source": [
        "Observamos que as colunas ***license*** e ***neighbourhood_group*** estão com todas as entradas sem informações, por isso poderiamos retirar as duas do nosso dataframe, outras duas colunas com uma quantidade significativa de dados nulos são ***last_review*** e ***reviews_per_month***, para as demais a quantidade de informações faltantes não afetaram as análises."
      ],
      "metadata": {
        "id": "QjIb3dHDhOwN"
      }
    },
    {
      "cell_type": "markdown",
      "source": [
        "### **Q3. Qual o tipo de distribuição das variáveis?** \n",
        "\n",
        "Aqui plotaremos histogramas para as variáveis de forma que possamos observar como os valores delas estão distribuidos."
      ],
      "metadata": {
        "id": "D220DBM3iagE"
      }
    },
    {
      "cell_type": "code",
      "source": [
        "df[['latitude', 'longitude', 'price', 'minimum_nights', 'number_of_reviews', 'last_review', \n",
        "        'reviews_per_month', 'calculated_host_listings_count', 'availability_365', 'number_of_reviews_ltm']].hist(bins = 15, figsize = (15, 15))"
      ],
      "metadata": {
        "colab": {
          "base_uri": "https://localhost:8080/",
          "height": 1000
        },
        "id": "twO4Bwlki8IR",
        "outputId": "85b8f95f-9ca8-4003-8012-1a1d564ade1b"
      },
      "execution_count": 7,
      "outputs": [
        {
          "output_type": "execute_result",
          "data": {
            "text/plain": [
              "array([[<matplotlib.axes._subplots.AxesSubplot object at 0x7faacd606890>,\n",
              "        <matplotlib.axes._subplots.AxesSubplot object at 0x7faacd567dd0>,\n",
              "        <matplotlib.axes._subplots.AxesSubplot object at 0x7faacd52c410>],\n",
              "       [<matplotlib.axes._subplots.AxesSubplot object at 0x7faacd5ae850>,\n",
              "        <matplotlib.axes._subplots.AxesSubplot object at 0x7faacd517bd0>,\n",
              "        <matplotlib.axes._subplots.AxesSubplot object at 0x7faacd4db210>],\n",
              "       [<matplotlib.axes._subplots.AxesSubplot object at 0x7faacd493890>,\n",
              "        <matplotlib.axes._subplots.AxesSubplot object at 0x7faacd448dd0>,\n",
              "        <matplotlib.axes._subplots.AxesSubplot object at 0x7faacd448e10>]],\n",
              "      dtype=object)"
            ]
          },
          "metadata": {},
          "execution_count": 7
        },
        {
          "output_type": "display_data",
          "data": {
            "text/plain": [
              "<Figure size 1080x1080 with 9 Axes>"
            ],
            "image/png": "[encoded data removed]"
          },
          "metadata": {
            "needs_background": "light"
          }
        }
      ]
    },
    {
      "cell_type": "markdown",
      "source": [
        "Para melhor praticidade, algumas colunas foram desconsideradas na hora da plotagem dos gráficos, isso porque não seria interessante verificar as colunas que estão nulas, ou que não possuem um valor que se deseja oberservar, tais como as colunas de id.\n",
        "\n",
        "A partir dos histogramas podemos observar que as variáveis não são simetricas, e tambem observamos que em quase todas as colunas existem valores muito altos que parecem distorcer a distribuição (*outliers*)."
      ],
      "metadata": {
        "id": "YvaZwclssKEM"
      }
    },
    {
      "cell_type": "markdown",
      "source": [
        "### **Q4. Há *outliers* presentes?**\n",
        "\n",
        "Como visto nos gráficos acima, é possivel observar outliers presentes nos dados, para uma melhor visualização desses valores podemos plotar ***boxplots*** e observar os resumos estatísticos tais como média, mediana, desvio padrão, etc."
      ],
      "metadata": {
        "id": "oVLqdMb5sotb"
      }
    },
    {
      "cell_type": "code",
      "source": [
        "#obtendos a descrição estatística dos dados\n",
        "df[['price', 'minimum_nights', 'number_of_reviews', 'last_review', \n",
        "        'reviews_per_month', 'calculated_host_listings_count', 'availability_365', 'number_of_reviews_ltm']].describe()"
      ],
      "metadata": {
        "colab": {
          "base_uri": "https://localhost:8080/",
          "height": 300
        },
        "id": "5pZyCHcILHmA",
        "outputId": "e2176258-3a84-43f1-c562-3c7ccbfbb644"
      },
      "execution_count": 12,
      "outputs": [
        {
          "output_type": "execute_result",
          "data": {
            "text/plain": [
              "               price  minimum_nights  number_of_reviews  reviews_per_month  \\\n",
              "count   24722.000000    24722.000000       24722.000000       16947.000000   \n",
              "mean      717.395923        5.256978          15.781126           0.824122   \n",
              "std      4174.808259       25.701926          35.410457           1.018939   \n",
              "min         0.000000        1.000000           0.000000           0.010000   \n",
              "25%       180.000000        1.000000           0.000000           0.130000   \n",
              "50%       300.000000        3.000000           3.000000           0.450000   \n",
              "75%       600.000000        4.000000          13.000000           1.110000   \n",
              "max    552982.000000     1125.000000         518.000000          20.980000   \n",
              "\n",
              "       calculated_host_listings_count  availability_365  number_of_reviews_ltm  \n",
              "count                    24722.000000      24722.000000           24722.000000  \n",
              "mean                         7.843297        219.635183               4.452916  \n",
              "std                         22.580404        134.127986               8.895529  \n",
              "min                          1.000000          0.000000               0.000000  \n",
              "25%                          1.000000         88.000000               0.000000  \n",
              "50%                          1.000000        242.000000               1.000000  \n",
              "75%                          4.000000        360.000000               5.000000  \n",
              "max                        186.000000        365.000000             225.000000  "
            ],
            "text/html": [
              "\n",
              "  <div id=\"df-06f94a87-8006-429f-b7c3-adb0fcb4d2de\">\n",
              "    <div class=\"colab-df-container\">\n",
              "      <div>\n",
              "<style scoped>\n",
              "    .dataframe tbody tr th:only-of-type {\n",
              "        vertical-align: middle;\n",
              "    }\n",
              "\n",
              "    .dataframe tbody tr th {\n",
              "        vertical-align: top;\n",
              "    }\n",
              "\n",
              "    .dataframe thead th {\n",
              "        text-align: right;\n",
              "    }\n",
              "</style>\n",
              "<table border=\"1\" class=\"dataframe\">\n",
              "  <thead>\n",
              "    <tr style=\"text-align: right;\">\n",
              "      <th></th>\n",
              "      <th>price</th>\n",
              "      <th>minimum_nights</th>\n",
              "      <th>number_of_reviews</th>\n",
              "      <th>reviews_per_month</th>\n",
              "      <th>calculated_host_listings_count</th>\n",
              "      <th>availability_365</th>\n",
              "      <th>number_of_reviews_ltm</th>\n",
              "    </tr>\n",
              "  </thead>\n",
              "  <tbody>\n",
              "    <tr>\n",
              "      <th>count</th>\n",
              "      <td>24722.000000</td>\n",
              "      <td>24722.000000</td>\n",
              "      <td>24722.000000</td>\n",
              "      <td>16947.000000</td>\n",
              "      <td>24722.000000</td>\n",
              "      <td>24722.000000</td>\n",
              "      <td>24722.000000</td>\n",
              "    </tr>\n",
              "    <tr>\n",
              "      <th>mean</th>\n",
              "      <td>717.395923</td>\n",
              "      <td>5.256978</td>\n",
              "      <td>15.781126</td>\n",
              "      <td>0.824122</td>\n",
              "      <td>7.843297</td>\n",
              "      <td>219.635183</td>\n",
              "      <td>4.452916</td>\n",
              "    </tr>\n",
              "    <tr>\n",
              "      <th>std</th>\n",
              "      <td>4174.808259</td>\n",
              "      <td>25.701926</td>\n",
              "      <td>35.410457</td>\n",
              "      <td>1.018939</td>\n",
              "      <td>22.580404</td>\n",
              "      <td>134.127986</td>\n",
              "      <td>8.895529</td>\n",
              "    </tr>\n",
              "    <tr>\n",
              "      <th>min</th>\n",
              "      <td>0.000000</td>\n",
              "      <td>1.000000</td>\n",
              "      <td>0.000000</td>\n",
              "      <td>0.010000</td>\n",
              "      <td>1.000000</td>\n",
              "      <td>0.000000</td>\n",
              "      <td>0.000000</td>\n",
              "    </tr>\n",
              "    <tr>\n",
              "      <th>25%</th>\n",
              "      <td>180.000000</td>\n",
              "      <td>1.000000</td>\n",
              "      <td>0.000000</td>\n",
              "      <td>0.130000</td>\n",
              "      <td>1.000000</td>\n",
              "      <td>88.000000</td>\n",
              "      <td>0.000000</td>\n",
              "    </tr>\n",
              "    <tr>\n",
              "      <th>50%</th>\n",
              "      <td>300.000000</td>\n",
              "      <td>3.000000</td>\n",
              "      <td>3.000000</td>\n",
              "      <td>0.450000</td>\n",
              "      <td>1.000000</td>\n",
              "      <td>242.000000</td>\n",
              "      <td>1.000000</td>\n",
              "    </tr>\n",
              "    <tr>\n",
              "      <th>75%</th>\n",
              "      <td>600.000000</td>\n",
              "      <td>4.000000</td>\n",
              "      <td>13.000000</td>\n",
              "      <td>1.110000</td>\n",
              "      <td>4.000000</td>\n",
              "      <td>360.000000</td>\n",
              "      <td>5.000000</td>\n",
              "    </tr>\n",
              "    <tr>\n",
              "      <th>max</th>\n",
              "      <td>552982.000000</td>\n",
              "      <td>1125.000000</td>\n",
              "      <td>518.000000</td>\n",
              "      <td>20.980000</td>\n",
              "      <td>186.000000</td>\n",
              "      <td>365.000000</td>\n",
              "      <td>225.000000</td>\n",
              "    </tr>\n",
              "  </tbody>\n",
              "</table>\n",
              "</div>\n",
              "      <button class=\"colab-df-convert\" onclick=\"convertToInteractive('df-06f94a87-8006-429f-b7c3-adb0fcb4d2de')\"\n",
              "              title=\"Convert this dataframe to an interactive table.\"\n",
              "              style=\"display:none;\">\n",
              "        \n",
              "  <svg xmlns=\"http://www.w3.org/2000/svg\" height=\"24px\"viewBox=\"0 0 24 24\"\n",
              "       width=\"24px\">\n",
              "    <path d=\"M0 0h24v24H0V0z\" fill=\"none\"/>\n",
              "    <path d=\"M18.56 5.44l.94 2.06.94-2.06 2.06-.94-2.06-.94-.94-2.06-.94 2.06-2.06.94zm-11 1L8.5 8.5l.94-2.06 2.06-.94-2.06-.94L8.5 2.5l-.94 2.06-2.06.94zm10 10l.94 2.06.94-2.06 2.06-.94-2.06-.94-.94-2.06-.94 2.06-2.06.94z\"/><path d=\"M17.41 7.96l-1.37-1.37c-.4-.4-.92-.59-1.43-.59-.52 0-1.04.2-1.43.59L10.3 9.45l-7.72 7.72c-.78.78-.78 2.05 0 2.83L4 21.41c.39.39.9.59 1.41.59.51 0 1.02-.2 1.41-.59l7.78-7.78 2.81-2.81c.8-.78.8-2.07 0-2.86zM5.41 20L4 18.59l7.72-7.72 1.47 1.35L5.41 20z\"/>\n",
              "  </svg>\n",
              "      </button>\n",
              "      \n",
              "  <style>\n",
              "    .colab-df-container {\n",
              "      display:flex;\n",
              "      flex-wrap:wrap;\n",
              "      gap: 12px;\n",
              "    }\n",
              "\n",
              "    .colab-df-convert {\n",
              "      background-color: #E8F0FE;\n",
              "      border: none;\n",
              "      border-radius: 50%;\n",
              "      cursor: pointer;\n",
              "      display: none;\n",
              "      fill: #1967D2;\n",
              "      height: 32px;\n",
              "      padding: 0 0 0 0;\n",
              "      width: 32px;\n",
              "    }\n",
              "\n",
              "    .colab-df-convert:hover {\n",
              "      background-color: #E2EBFA;\n",
              "      box-shadow: 0px 1px 2px rgba(60, 64, 67, 0.3), 0px 1px 3px 1px rgba(60, 64, 67, 0.15);\n",
              "      fill: #174EA6;\n",
              "    }\n",
              "\n",
              "    [theme=dark] .colab-df-convert {\n",
              "      background-color: #3B4455;\n",
              "      fill: #D2E3FC;\n",
              "    }\n",
              "\n",
              "    [theme=dark] .colab-df-convert:hover {\n",
              "      background-color: #434B5C;\n",
              "      box-shadow: 0px 1px 3px 1px rgba(0, 0, 0, 0.15);\n",
              "      filter: drop-shadow(0px 1px 2px rgba(0, 0, 0, 0.3));\n",
              "      fill: #FFFFFF;\n",
              "    }\n",
              "  </style>\n",
              "\n",
              "      <script>\n",
              "        const buttonEl =\n",
              "          document.querySelector('#df-06f94a87-8006-429f-b7c3-adb0fcb4d2de button.colab-df-convert');\n",
              "        buttonEl.style.display =\n",
              "          google.colab.kernel.accessAllowed ? 'block' : 'none';\n",
              "\n",
              "        async function convertToInteractive(key) {\n",
              "          const element = document.querySelector('#df-06f94a87-8006-429f-b7c3-adb0fcb4d2de');\n",
              "          const dataTable =\n",
              "            await google.colab.kernel.invokeFunction('convertToInteractive',\n",
              "                                                     [key], {});\n",
              "          if (!dataTable) return;\n",
              "\n",
              "          const docLinkHtml = 'Like what you see? Visit the ' +\n",
              "            '<a target=\"_blank\" href=https://colab.research.google.com/notebooks/data_table.ipynb>data table notebook</a>'\n",
              "            + ' to learn more about interactive tables.';\n",
              "          element.innerHTML = '';\n",
              "          dataTable['output_type'] = 'display_data';\n",
              "          await google.colab.output.renderOutput(dataTable, element);\n",
              "          const docLink = document.createElement('div');\n",
              "          docLink.innerHTML = docLinkHtml;\n",
              "          element.appendChild(docLink);\n",
              "        }\n",
              "      </script>\n",
              "    </div>\n",
              "  </div>\n",
              "  "
            ]
          },
          "metadata": {},
          "execution_count": 12
        }
      ]
    },
    {
      "cell_type": "markdown",
      "source": [
        "Podemos perceber valores bem altos para algumas variáveis, por exemplo a variável **price** possui um valor maximo de **552.982**, um valor muito alem da *mediana* obtida, alem disso, tal valor faz com que a média se torne uma medida não muito confiavel, por isso neste caso é melhor usar a mediana para qualquer observação."
      ],
      "metadata": {
        "id": "df9V4kulPQqa"
      }
    },
    {
      "cell_type": "code",
      "source": [
        "#boxplot da coluna price\n",
        "df['price'].plot(kind='box', vert=False, figsize=(15, 3))"
      ],
      "metadata": {
        "colab": {
          "base_uri": "https://localhost:8080/",
          "height": 228
        },
        "id": "sZuqocl_Ql5e",
        "outputId": "4aa5f7fc-1caf-40ba-a18c-6ce461bad0e3"
      },
      "execution_count": 32,
      "outputs": [
        {
          "output_type": "execute_result",
          "data": {
            "text/plain": [
              "<matplotlib.axes._subplots.AxesSubplot at 0x7faacad01150>"
            ]
          },
          "metadata": {},
          "execution_count": 32
        },
        {
          "output_type": "display_data",
          "data": {
            "text/plain": [
              "<Figure size 1080x216 with 1 Axes>"
            ],
            "image/png": "[encoded data removed]"
          },
          "metadata": {
            "needs_background": "light"
          }
        }
      ]
    },
    {
      "cell_type": "code",
      "source": [
        "df['price'].loc[lambda x: x < 2000].plot(kind='box', vert=False, figsize=(15,3))\n",
        "print('\\n\\nNúmero de valores maiores que 2000: \\t', df['price'].loc[lambda x: x > 2000].count(), '\\n\\n')"
      ],
      "metadata": {
        "colab": {
          "base_uri": "https://localhost:8080/",
          "height": 298
        },
        "id": "nEWyLEOlScEx",
        "outputId": "a9d95446-9685-42a9-ee7e-6502963b4256"
      },
      "execution_count": 43,
      "outputs": [
        {
          "output_type": "stream",
          "name": "stdout",
          "text": [
            "\n",
            "\n",
            "Número de valores maiores que 2000: \t 1140 \n",
            "\n",
            "\n"
          ]
        },
        {
          "output_type": "display_data",
          "data": {
            "text/plain": [
              "<Figure size 1080x216 with 1 Axes>"
            ],
            "image/png": "[encoded data removed]"
          },
          "metadata": {
            "needs_background": "light"
          }
        }
      ]
    },
    {
      "cell_type": "markdown",
      "source": [
        "Com o ploxplot fica fácil ver que existem muitos outliers para a variável price, no primeiro gráfico por conta da quantidade de outliers fica difícil ver a distribição dos demais valores, por isso usei um valor de corte de 2000 para que melhorasse a visualização.\n",
        "\n",
        "Podemos ver que existem **1140** valores que são maiores que 2000, a unidade de medida da variável deve ser observada, mas provavelmente é em R$. "
      ],
      "metadata": {
        "id": "wxB4UQAiUKfs"
      }
    },
    {
      "cell_type": "code",
      "source": [
        "#boxplot da variável minimum_nights\n",
        "df['minimum_nights'].plot(kind='box', vert=False, figsize=(15, 3))"
      ],
      "metadata": {
        "colab": {
          "base_uri": "https://localhost:8080/",
          "height": 228
        },
        "id": "ygbE-Zs-VoAR",
        "outputId": "cfedbae1-78de-414d-b61b-3e5255c687e0"
      },
      "execution_count": 44,
      "outputs": [
        {
          "output_type": "execute_result",
          "data": {
            "text/plain": [
              "<matplotlib.axes._subplots.AxesSubplot at 0x7faac9e0d710>"
            ]
          },
          "metadata": {},
          "execution_count": 44
        },
        {
          "output_type": "display_data",
          "data": {
            "text/plain": [
              "<Figure size 1080x216 with 1 Axes>"
            ],
            "image/png": "[encoded data removed]"
          },
          "metadata": {
            "needs_background": "light"
          }
        }
      ]
    },
    {
      "cell_type": "code",
      "source": [
        "df['minimum_nights'].loc[lambda x: x < 30].plot(kind='box', vert=False, figsize=(15,3))\n",
        "print('\\n\\nNúmero de valores maiores que 30: \\t', df['minimum_nights'].loc[lambda x: x > 30].count(), '\\n\\n')"
      ],
      "metadata": {
        "colab": {
          "base_uri": "https://localhost:8080/",
          "height": 298
        },
        "id": "EVJjkNekYEOc",
        "outputId": "1410190b-6da1-45ca-c4d4-e239a17cadba"
      },
      "execution_count": 47,
      "outputs": [
        {
          "output_type": "stream",
          "name": "stdout",
          "text": [
            "\n",
            "\n",
            "Número de valores maiores que 30: \t 253 \n",
            "\n",
            "\n"
          ]
        },
        {
          "output_type": "display_data",
          "data": {
            "text/plain": [
              "<Figure size 1080x216 with 1 Axes>"
            ],
            "image/png": "[encoded data removed]"
          },
          "metadata": {
            "needs_background": "light"
          }
        }
      ]
    },
    {
      "cell_type": "markdown",
      "source": [
        "Plotamos o gráfico de minimum_nights e assim como com price, a existência de muitos outliers prejudicam a visualização do boxplot, por isso usei um valor de corte de 30 noites no segundo gráfico. \n",
        "\n",
        "podemos ver tambem que existem **253** valores maiores que 30 noites."
      ],
      "metadata": {
        "id": "jOVKF4aoYgiD"
      }
    }
  ]
}