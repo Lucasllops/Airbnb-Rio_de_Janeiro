{
  "nbformat": 4,
  "nbformat_minor": 0,
  "metadata": {
    "colab": {
      "name": "Airbnb_Rio_de_Janeiro.ipynb",
      "provenance": [],
      "collapsed_sections": [],
      "authorship_tag": "ABX9TyO0aWMZNrlPwj3xhUHTbdhL",
      "include_colab_link": true
    },
    "kernelspec": {
      "name": "python3",
      "display_name": "Python 3"
    },
    "language_info": {
      "name": "python"
    }
  },
  "cells": [
    {
      "cell_type": "markdown",
      "metadata": {
        "id": "view-in-github",
        "colab_type": "text"
      },
      "source": [
        "<a href=\"https://colab.research.google.com/github/Lucasllops/Airbnb-Rio_de_Janeiro/blob/main/Airbnb_Rio_de_Janeiro.ipynb\" target=\"_parent\"><img src=\"https://colab.research.google.com/assets/colab-badge.svg\" alt=\"Open In Colab\"/></a>"
      ]
    },
    {
      "cell_type": "markdown",
      "source": [
        "# Análise dos dados de hospedaria da empresa Airbnb para a cidade do Rio de Janeiro\n",
        "\n",
        "A [Airbnb](https://www.airbnb.com.br/) é uma empresa americana fundada em agosto de 2008, que mudou a forma de se trabalhar com hospedarias, isso porque a empresa é uma das maiores no ramo de hospedagem, mesmo não possuindo nenhum imóvel. \n",
        "\n",
        "Com a Airbnb, pessoas do mundo inteiro podem de forma fácil, alugar casas ou quartos para se hospedarem durante aquela viagem de férias. \n",
        "\n",
        "A empresa opera online, e faz o papel de intermediaria entre pessoas que possuem imóveis ou quartos para alugar, e pessoas que querem alugar um lugar para passar o fim de semana ou uma temporada.\n",
        "\n",
        "**Esse notebook tem como objetivo a análise dos dados de hospedaria para a cidade do Rio de Janeiro, e ver quais insights podem ser extraídos**"
      ],
      "metadata": {
        "id": "0BCI_KPrYPNC"
      }
    },
    {
      "cell_type": "code",
      "execution_count": null,
      "metadata": {
        "id": "d5pe225lYKiN"
      },
      "outputs": [],
      "source": [
        ""
      ]
    }
  ]
}